{
 "cells": [
  {
   "cell_type": "code",
   "execution_count": 64,
   "id": "5c6f302d-cabf-4997-a5b3-594519eabb5d",
   "metadata": {},
   "outputs": [],
   "source": [
    "### Generate RMSE position and velocity for clustering\n",
    "\n",
    "# Answering the question which orbits are the best:\n",
    "\n",
    "import pandas as pd\n",
    "import seaborn as sns\n",
    "import numpy as np\n",
    "import matplotlib.pyplot as plt\n",
    "from scipy.integrate import solve_ivp\n",
    "from ipynb.fs.full.funcCR3BP import CR3BP\n",
    "from ipynb.fs.full.funcDataGen import *\n",
    "from ipynb.fs.full.funcPert import *\n",
    "from ipynb.fs.full.EKFfunc import *\n",
    "from ipynb.fs.full.funcRMSE import *"
   ]
  },
  {
   "cell_type": "code",
   "execution_count": 65,
   "id": "0e19f30b-1a0a-413f-aad4-eeb0a9ddbe89",
   "metadata": {},
   "outputs": [],
   "source": [
    "# Massive Data Frame:\n",
    "# Load Observer Orbit\n",
    "df1 = pd.read_excel(\"Earth-Moon System/L1_Halo_Northern_Orbits.xlsx\")\n",
    "df2 = pd.read_excel(\"Earth-Moon System/L1_Halo_Southern_Orbits.xlsx\")\n",
    "df3 = pd.read_excel(\"Earth-Moon System/L1_Axial.xlsx\")\n",
    "df4 = pd.read_excel(\"Earth-Moon System/L2_Axial.xlsx\")\n",
    "df5 = pd.read_excel(\"Earth-Moon System/L1_Lypunov.xlsx\")\n",
    "df6 = pd.read_excel(\"Earth-Moon System/L2_Lypunov.xlsx\")\n",
    "df7 = pd.read_excel(\"Earth-Moon System/L2_Halo_Northern_Orbits.xlsx\")\n",
    "df8 = pd.read_excel(\"Earth-Moon System/L2_Halo_Southern_Orbits.xlsx\")\n",
    "df9 = pd.read_excel(\"Earth-Moon System/L1_Vertical.xlsx\")\n",
    "df10 = pd.read_excel(\"Earth-Moon System/L2_Vertical.xlsx\")\n",
    "\n",
    "L1_HN, L1_HS = df1.to_numpy(), df2.to_numpy() # L1 Halo\n",
    "L2_HN, L2_HS = df7.to_numpy(), df8.to_numpy() # L2 Halo\n",
    "L1_A, L2_A = df3.to_numpy(), df4.to_numpy() # L1, L2 Axial\n",
    "L1_L, L2_L = df5.to_numpy(), df6.to_numpy() # L1, L2 Lypunov\n",
    "L1_V, L2_V = df9.to_numpy(), df10.to_numpy() # L1, L2 Vertical"
   ]
  },
  {
   "cell_type": "code",
   "execution_count": 66,
   "id": "4c096ac7-06a0-4ef2-9cc1-0bf36e7a17b9",
   "metadata": {},
   "outputs": [],
   "source": [
    "# Constants of CR3BP\n",
    "mu = 1.215058560962404E-2\n",
    "DU = 389703\n",
    "TU = 382981"
   ]
  },
  {
   "cell_type": "code",
   "execution_count": 67,
   "id": "28a47262-0ca8-4830-a549-38b1e9965b7c",
   "metadata": {},
   "outputs": [],
   "source": [
    "# Parameters for random sampling (# Units of km and km/s)\n",
    "# Inital Conditions\n",
    "# \n",
    "r = 1737.1\n",
    "rpert = 35000\n",
    "vpert = 0.20\n",
    "N = 100 \n",
    "Tdes = 36*3600/TU\n",
    "tsteps = 6*3600/TU\n",
    "\n",
    "# Perturbation\n",
    "xpert = np.array([[1/DU], [-1/DU], [0]])\n",
    "vpertIC = np.array([[0.01*(TU/DU)], [-0.01*(TU/DU)], [0]])\n",
    "\n",
    "Pi = np.zeros((6,6))\n",
    "\n",
    "for i in range(3):\n",
    "    Pi[i,i] += 1/DU\n",
    "    Pi[i+3,i+3] += 0.001 * (TU/DU)"
   ]
  },
  {
   "cell_type": "code",
   "execution_count": 68,
   "id": "e7907afa-1009-4a33-923e-4379066077c9",
   "metadata": {},
   "outputs": [],
   "source": [
    "# Massive Observer Matrix\n",
    "# This cell generates the observer orbits database use for performance calculation\n",
    "nt = 10 # This get change depending on the amount of observers we want to sample\n",
    "# For full observer sample utilize the full size of the data matrix\n",
    "\n",
    "O_IC1 = LHC_Sample(nt, L1_HN[:,7].min(), L1_HN[:,7].max(), L1_HN) #1\n",
    "O_IC2 = LHC_Sample(nt, L1_HS[:,7].min(), L1_HS[:,7].max(), L1_HS) #2\n",
    "O_IC3 = LHC_Sample(nt, L2_HN[:,7].min(), L2_HN[:,7].max(), L2_HN) #3\n",
    "O_IC4 = LHC_Sample(nt, L2_HS[:,7].min(), L2_HS[:,7].max(), L2_HS) #4\n",
    "O_IC5 = LHC_Sample(nt, L1_A[:,7].min(), L1_A[:,7].max(), L1_A) #5\n",
    "O_IC6 = LHC_Sample(nt, L2_A[:,7].min(), L2_A[:,7].max(), L2_A) #6\n",
    "O_IC7 = LHC_Sample(nt, L1_L[:,7].min(), L1_L[:,7].max(), L1_L) #7\n",
    "O_IC8 = LHC_Sample(nt, L2_L[:,7].min(), L2_L[:,7].max(), L2_L) #8\n",
    "O_IC9 = LHC_Sample(nt, L1_V[:,7].min(), L1_V[:,7].max(), L1_V) #9\n",
    "O_IC10 = LHC_Sample(nt, L2_V[:,7].min(), L2_V[:,7].max(), L2_V) #10\n",
    "\n",
    "# # Mark corresponding data with a number to idnetify orbit\n",
    "F1 = np.zeros(np.size(O_IC1,0)) + 1\n",
    "F2 = np.zeros(np.size(O_IC2,0)) + 2\n",
    "F3 = np.zeros(np.size(O_IC3,0)) + 3\n",
    "F4 = np.zeros(np.size(O_IC4,0)) + 4\n",
    "F5 = np.zeros(np.size(O_IC5,0)) + 5\n",
    "F6 = np.zeros(np.size(O_IC6,0)) + 6\n",
    "F7 = np.zeros(np.size(O_IC7,0)) + 7\n",
    "F8 = np.zeros(np.size(O_IC8,0)) + 8\n",
    "F9 = np.zeros(np.size(O_IC9,0)) + 9\n",
    "F10 = np.zeros(np.size(O_IC10,0)) + 10\n",
    "\n",
    "Features = np.concatenate((F1,F2, F3, F4, F5, F6, F7, F8, F9, F10))\n",
    "\n",
    "XIC_data = np.concatenate((O_IC1[:,1:7],O_IC2[:,1:7], O_IC3[:,1:7], O_IC4[:,1:7], O_IC5[:,1:7], O_IC6[:,1:7], O_IC7[:,1:7], O_IC8[:,1:7], O_IC9[:,1:7], O_IC10[:,1:7]))\n",
    "\n",
    "dataO = np.concatenate((XIC_data, Features.reshape(-1,1)), axis = 1)\n",
    "\n",
    "XT = randomSampleIC(r, rpert, vpert, DU, TU, mu, N)"
   ]
  },
  {
   "cell_type": "code",
   "execution_count": 69,
   "id": "3e4f03d1-01f6-4b74-9fe9-8d4c4cf76cc8",
   "metadata": {},
   "outputs": [],
   "source": [
    "idx1 = np.size(XIC_data, 0)\n",
    "idx2 = np.size(XT, 1)\n",
    "avgRMSEpos = np.zeros(idx1)\n",
    "avgRMSEvel = np.zeros(idx1)\n",
    "Epos, Evel = np.zeros(idx2), np.zeros(idx2)\n",
    "\n",
    "for i in range(idx1):\n",
    "    \n",
    "    for j in range(idx2):\n",
    "        \n",
    "        xT_p = XICpertb(XT[:, j], np.array([-0.001, 0.001]), np.array([-0.001, 0.001]))  # Pertb inital condtions by a bit\n",
    "        \n",
    "        DO, DT = XIC_data[i, :], XT[:, j] # Construct DATA ONE TIME STEP\n",
    "        \n",
    "        # Updating one inital state\n",
    "        X, P = AngleEKF(DT[0:3], DO[0:3], xT_p.reshape(-1,1), Pi, 192.0118*(np.pi/(180*3600)) )\n",
    "        \n",
    "        # Calculate Performance Factor\n",
    "        Epos[j], Evel[j] = magRMSE(DT.reshape(-1,1), X)\n",
    "        \n",
    "    avgRMSEpos[i], avgRMSEvel[i] = np.mean(Epos), np.mean(Evel)\n",
    "\n",
    "# avgRMSEpos and avgRMSEvel will be transported into a excel folder or data array folder"
   ]
  },
  {
   "cell_type": "code",
   "execution_count": 70,
   "id": "9f2d8d14-31ee-4c46-a17b-bed3a18b560a",
   "metadata": {},
   "outputs": [],
   "source": [
    "### This file will be run to generate performance dataset for Classification Problem\n",
    "### Inital Results show that there is little relationship between orbit and performance\n",
    "### Chaotic Nature of the behavior indicate that tracking is a case by case basis"
   ]
  }
 ],
 "metadata": {
  "kernelspec": {
   "display_name": "Python [conda env:anaconda3] *",
   "language": "python",
   "name": "conda-env-anaconda3-py"
  },
  "language_info": {
   "codemirror_mode": {
    "name": "ipython",
    "version": 3
   },
   "file_extension": ".py",
   "mimetype": "text/x-python",
   "name": "python",
   "nbconvert_exporter": "python",
   "pygments_lexer": "ipython3",
   "version": "3.12.7"
  }
 },
 "nbformat": 4,
 "nbformat_minor": 5
}
