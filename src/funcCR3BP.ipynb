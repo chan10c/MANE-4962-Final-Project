{
 "cells": [
  {
   "cell_type": "code",
   "execution_count": 11,
   "id": "f689f268-f70a-4ba8-b2af-bf43dd4a1740",
   "metadata": {},
   "outputs": [],
   "source": [
    "### Define Circular Restricted Three Body Problem (CR3BP)\n",
    "### Function to solve for CR3BP\n",
    "\n",
    "# Inital Value Problem ODE\n",
    "# Utilize for data generation and orbit propagation\n",
    "# Function to be called"
   ]
  },
  {
   "cell_type": "code",
   "execution_count": 13,
   "id": "bcbb585d-2f9d-4238-b1a6-955b0eecf609",
   "metadata": {},
   "outputs": [],
   "source": [
    "# CR3BP (Defining System): \n",
    "import numpy as np # Load numpy module\n",
    "def CR3BP(t, X, mu): \n",
    "    \"\"\"\n",
    "    Parameters\n",
    "    ----------\n",
    "    t : time\n",
    "        solving ode of equation of motion.\n",
    "    X : State of spacecraft\n",
    "        X = [x; y; z; vx; vy; vz]\n",
    "    mu : gravtational parameter of system\n",
    "        mu = constant of 1.215058560962404E-2\n",
    "\n",
    "    Returns: Equation of Motion Function\n",
    "            Xdot = [vx; vy; vz; ax; ay; az]\n",
    "    -------\n",
    "    \"\"\"\n",
    "    x,y,z,vx,vy,vz = X[::] # Defining states\n",
    "    \n",
    "    # Length Parameter\n",
    "    r1 = np.linalg.norm(np.array([x+mu, y, z]))\n",
    "    r2 = np.linalg.norm(np.array([x-1+mu, y, z]))\n",
    "    \n",
    "    # Equation of Motion\n",
    "    ax = 2*vy + x - ((1-mu)/r1**3) * (x+mu) - (mu/r2**3) * (x-1+mu)\n",
    "    ay = y - 2*vx - ((1-mu)/r1**3) * y - (mu/r2**3) * y\n",
    "    az = -((1-mu)/r1**3) * z - ((mu/r2**3)) * z \n",
    "    \n",
    "    Xdot = np.array([vx,vy,vz,ax,ay,az])\n",
    "    \n",
    "    return Xdot"
   ]
  }
 ],
 "metadata": {
  "kernelspec": {
   "display_name": "Python [conda env:anaconda3] *",
   "language": "python",
   "name": "conda-env-anaconda3-py"
  },
  "language_info": {
   "codemirror_mode": {
    "name": "ipython",
    "version": 3
   },
   "file_extension": ".py",
   "mimetype": "text/x-python",
   "name": "python",
   "nbconvert_exporter": "python",
   "pygments_lexer": "ipython3",
   "version": "3.12.7"
  }
 },
 "nbformat": 4,
 "nbformat_minor": 5
}
