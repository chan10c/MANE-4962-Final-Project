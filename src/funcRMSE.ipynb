{
 "cells": [
  {
   "cell_type": "code",
   "execution_count": 3,
   "id": "8e5dc06d-dd75-4df4-b000-5172f2d06002",
   "metadata": {},
   "outputs": [],
   "source": [
    "from sklearn.metrics import root_mean_squared_error\n",
    "import numpy as np"
   ]
  },
  {
   "cell_type": "code",
   "execution_count": 4,
   "id": "b6f0ff5a-a0c2-427f-9212-35b29cb3ce76",
   "metadata": {},
   "outputs": [],
   "source": [
    "def magRMSE(X_true, X_pred):\n",
    "    \"\"\"\n",
    "    Calculate the magnitude of the RMSE for performance factor\n",
    "    both position and velocity\n",
    "\n",
    "    Parameters\n",
    "    ----------\n",
    "    X_true = True States [6 by N]\n",
    "    X_pred = Predicited States [6 by N]\n",
    "    Returns: RMSE magnitude of position and velocity\n",
    "    -------\n",
    "    \"\"\"\n",
    "    N = np.size(X_true,1)\n",
    "    pos_true, vel_true = np.zeros(N), np.zeros(N)\n",
    "    pos_pred, vel_pred = np.zeros(N), np.zeros(N)\n",
    "    for i in range(N):\n",
    "        pos_true[i], vel_true[i] = np.linalg.norm(X_true[0:3,i]), np.linalg.norm(X_true[4:,i])\n",
    "        pos_pred[i], vel_pred[i] = np.linalg.norm(X_pred[0:3,i]), np.linalg.norm(X_pred[4:,i])\n",
    "        \n",
    "    RMSEpos = root_mean_squared_error(pos_true, pos_pred)\n",
    "    RMSEvel = root_mean_squared_error(vel_true, vel_pred)\n",
    "    \n",
    "    return RMSEpos, RMSEvel"
   ]
  }
 ],
 "metadata": {
  "kernelspec": {
   "display_name": "Python [conda env:anaconda3] *",
   "language": "python",
   "name": "conda-env-anaconda3-py"
  },
  "language_info": {
   "codemirror_mode": {
    "name": "ipython",
    "version": 3
   },
   "file_extension": ".py",
   "mimetype": "text/x-python",
   "name": "python",
   "nbconvert_exporter": "python",
   "pygments_lexer": "ipython3",
   "version": "3.12.7"
  }
 },
 "nbformat": 4,
 "nbformat_minor": 5
}
