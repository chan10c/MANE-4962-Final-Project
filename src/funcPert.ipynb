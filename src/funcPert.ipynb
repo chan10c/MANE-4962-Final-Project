{
 "cells": [
  {
   "cell_type": "code",
   "execution_count": 39,
   "id": "6de7d938-f5a4-488c-bfd3-7a3723db6f92",
   "metadata": {},
   "outputs": [],
   "source": [
    "\"\"\" Function File for random perturbation of inital conditions\"\"\"\n",
    "import numpy as np"
   ]
  },
  {
   "cell_type": "code",
   "execution_count": 40,
   "id": "2452a062-7334-4d53-844c-a7c73b4854d2",
   "metadata": {},
   "outputs": [],
   "source": [
    "def pertRand(IC, x_rand, v_rand): \n",
    "    \"\"\"\n",
    "    Random Perturbation of the IC\n",
    "    Will be multiply by random uniform distribution from -1 to 1\n",
    "    Parameters\n",
    "    ----------\n",
    "    IC = Inital Conditions (States and Velocity)\n",
    "    x_rand = States random perturabtion\n",
    "    v_rand = Velocity random perturbation\n",
    "\n",
    "    Returns: Perturb Inital Conditions\n",
    "    -------\n",
    "    \"\"\"\n",
    "    IC = np.reshape(np.copy(IC), (6,)) # Convert to single array\n",
    "    xpert = np.random.uniform(-1,1,3) * x_rand\n",
    "    vpert = np.random.uniform(-1,1,3) * v_rand\n",
    "    \n",
    "    IC[0:3] = IC[0:3] + xpert\n",
    "    IC[3:] = IC[3:] + vpert\n",
    "    \n",
    "    IC = IC.reshape(6,-1) # Return to Column Vector\n",
    "    \n",
    "    return IC"
   ]
  },
  {
   "cell_type": "code",
   "execution_count": 41,
   "id": "6fb68577-d4e7-4bd2-a375-e1452e757ea6",
   "metadata": {},
   "outputs": [],
   "source": [
    "def pertFixed(IC, x_pert, v_pert): \n",
    "    \"\"\"\n",
    "    Fixed Perturbation of the IC given all six perturbation\n",
    "    Parameters [#All given are column array]\n",
    "    ----------\n",
    "    IC = Inital Conditions (States and Velocity) [6 by 1]\n",
    "    x_rand = States random perturabtion [3 by 1]\n",
    "    v_rand = Velocity random perturbation [3 by 1]\n",
    "\n",
    "    Returns: Perturb Inital Conditions\n",
    "    -------\n",
    "    \"\"\"\n",
    "    IC = np.reshape(np.copy(IC), (6,-1)) # Return to Column Vector\n",
    "    IC[0:3] = IC[0:3] + x_pert\n",
    "    IC[3:] = IC[3:] + v_pert\n",
    "    \n",
    "    return IC"
   ]
  },
  {
   "cell_type": "code",
   "execution_count": 42,
   "id": "48272116-7d5d-4515-a6cc-ab9bf2db8e35",
   "metadata": {},
   "outputs": [],
   "source": [
    "def XICpertb(XIC, xbound, vbound):\n",
    "    \"\"\"\n",
    "    Bounded Perturbed Inital Conditions\n",
    "    \"\"\"\n",
    "    px = XIC[0] + np.random.uniform(xbound[0], xbound[1])\n",
    "    py = XIC[1] + np.random.uniform(xbound[0], xbound[1])\n",
    "\n",
    "    vx = XIC[3] + np.random.uniform(vbound[0], vbound[1])\n",
    "    vy = XIC[4] + np.random.uniform(vbound[0], vbound[1])\n",
    "\n",
    "    return np.array([px, py, XIC[2], vx, vy, XIC[5]])"
   ]
  },
  {
   "cell_type": "code",
   "execution_count": null,
   "id": "2892a22b-2b7e-4f6c-b145-d6395ba89683",
   "metadata": {},
   "outputs": [],
   "source": []
  }
 ],
 "metadata": {
  "kernelspec": {
   "display_name": "Python [conda env:anaconda3] *",
   "language": "python",
   "name": "conda-env-anaconda3-py"
  },
  "language_info": {
   "codemirror_mode": {
    "name": "ipython",
    "version": 3
   },
   "file_extension": ".py",
   "mimetype": "text/x-python",
   "name": "python",
   "nbconvert_exporter": "python",
   "pygments_lexer": "ipython3",
   "version": "3.12.7"
  }
 },
 "nbformat": 4,
 "nbformat_minor": 5
}
